{
 "cells": [
  {
   "cell_type": "markdown",
   "metadata": {},
   "source": [
    "# The Normal Distribution - Lab"
   ]
  },
  {
   "cell_type": "markdown",
   "metadata": {},
   "source": [
    "## Introduction\n",
    "\n",
    "In this lab, you'll learn how to generate random normal distributions in Python. You'll learn how to visualize a histogram and build a density function using the formula. \n",
    "\n",
    "## Objectives\n",
    "You will be able to:\n",
    "\n",
    "* Use `numpy` to generate a random normal distribution\n",
    "* Calculate the density function for normal distributions with a Python function\n",
    "* Plot and interpret density plots and comment on the shape of the plot"
   ]
  },
  {
   "cell_type": "markdown",
   "metadata": {},
   "source": [
    "## A quick refresher! \n",
    "\n",
    "Here's the formula for the normal distribution density function once more:\n",
    "\n",
    "$$ \\large N(x) = \\dfrac{1}{\\sigma \\sqrt {2\\pi }}e^{-\\dfrac{(x-\\mu)^2}{2\\sigma^2}}$$\n",
    "\n",
    "Here, \n",
    "- $\\mu$ is the mean\n",
    "- $\\sigma$ is the standard deviation\n",
    "- $\\pi \\approx 3.14159 $ \n",
    "- $ e \\approx 2.71828 $\n"
   ]
  },
  {
   "cell_type": "markdown",
   "metadata": {},
   "source": [
    "## First generate a normal distribution containing 5000 values with $\\mu=14$ and $\\sigma = 2.8$"
   ]
  },
  {
   "cell_type": "code",
   "execution_count": 3,
   "metadata": {
    "ExecuteTime": {
     "end_time": "2020-08-10T11:15:38.950982Z",
     "start_time": "2020-08-10T11:15:38.463549Z"
    }
   },
   "outputs": [],
   "source": [
    "# Generate a random normal variable with given parameters , n=5000\n",
    "import numpy as np\n",
    "import matplotlib.pyplot as plt"
   ]
  },
  {
   "cell_type": "code",
   "execution_count": 2,
   "metadata": {
    "ExecuteTime": {
     "end_time": "2020-08-10T11:06:01.157333Z",
     "start_time": "2020-08-10T11:06:01.141436Z"
    }
   },
   "outputs": [
    {
     "data": {
      "text/plain": [
       "array([17.15623892, 11.11805409, 13.94826318, 15.85744403, 10.86214146,\n",
       "       18.53919885, 19.54976135,  9.53967099, 11.58783049, 11.99197488])"
      ]
     },
     "execution_count": 2,
     "metadata": {},
     "output_type": "execute_result"
    }
   ],
   "source": [
    "nor_dist = np.random.normal(loc=14, scale=2.8, size=5000)\n",
    "nor_dist[:10]"
   ]
  },
  {
   "cell_type": "markdown",
   "metadata": {},
   "source": [
    "## Calculate a normalized histogram for this distribution in matplotlib, with bin size = 20\n",
    "\n",
    "Make sure to get the bin positions and counts for each of the obtained bins. You can use [official documentation](https://matplotlib.org/api/_as_gen/matplotlib.pyplot.hist.html) to view input and output options for `plt.hist()`"
   ]
  },
  {
   "cell_type": "code",
   "execution_count": 7,
   "metadata": {
    "ExecuteTime": {
     "end_time": "2020-08-10T11:32:02.881839Z",
     "start_time": "2020-08-10T11:32:02.617821Z"
    }
   },
   "outputs": [
    {
     "data": {
      "text/plain": [
       "Text(0.5, 1.0, 'Normalized Normal distribution')"
      ]
     },
     "execution_count": 7,
     "metadata": {},
     "output_type": "execute_result"
    },
    {
     "data": {
      "image/png": "[encoded data removed]",
      "text/plain": [
       "<Figure size 432x288 with 1 Axes>"
      ]
     },
     "metadata": {
      "needs_background": "light"
     },
     "output_type": "display_data"
    }
   ],
   "source": [
    "# Calculate a histogram for above data distribution\n",
    "value, bins, ignored =plt.hist(nor_dist, bins=20, density=True,  histtype='bar')\n",
    "plt.title('Normalized Normal distribution')"
   ]
  },
  {
   "cell_type": "markdown",
   "metadata": {},
   "source": [
    "## Use the formula to calculate the density function with $\\mu$, $\\sigma$ and bin information obtained before"
   ]
  },
  {
   "cell_type": "code",
   "execution_count": 8,
   "metadata": {
    "ExecuteTime": {
     "end_time": "2020-08-10T11:34:48.308808Z",
     "start_time": "2020-08-10T11:34:48.301366Z"
    }
   },
   "outputs": [
    {
     "data": {
      "text/plain": [
       "(array([0.00036111, 0.00018055, 0.00144442, 0.00379161, 0.0092082 ,\n",
       "        0.0241941 , 0.04856875, 0.07565169, 0.1128456 , 0.13758136,\n",
       "        0.13974799, 0.12584541, 0.09659583, 0.0668046 , 0.03268009,\n",
       "        0.015347  , 0.00902765, 0.00162498, 0.00072221, 0.00054166]),\n",
       " array([ 2.61428295,  3.72199117,  4.8296994 ,  5.93740762,  7.04511584,\n",
       "         8.15282406,  9.26053228, 10.36824051, 11.47594873, 12.58365695,\n",
       "        13.69136517, 14.79907339, 15.90678162, 17.01448984, 18.12219806,\n",
       "        19.22990628, 20.33761451, 21.44532273, 22.55303095, 23.66073917,\n",
       "        24.76844739]))"
      ]
     },
     "execution_count": 8,
     "metadata": {},
     "output_type": "execute_result"
    }
   ],
   "source": [
    "value, bins"
   ]
  },
  {
   "cell_type": "code",
   "execution_count": 12,
   "metadata": {
    "ExecuteTime": {
     "end_time": "2020-08-10T11:52:32.885842Z",
     "start_time": "2020-08-10T11:52:32.877293Z"
    }
   },
   "outputs": [
    {
     "data": {
      "text/plain": [
       "array([3.65778501e-05, 1.68995038e-04, 6.67666303e-04, 2.25566547e-03,\n",
       "       6.51657882e-03, 1.60988310e-02, 3.40093835e-02, 6.14374109e-02,\n",
       "       9.49066795e-02, 1.25369063e-01, 1.41616452e-01, 1.36793912e-01,\n",
       "       1.12992484e-01, 7.98108744e-02, 4.82063568e-02, 2.48986776e-02,\n",
       "       1.09970951e-02, 4.15345401e-03, 1.34143786e-03, 3.70477164e-04,\n",
       "       8.74947621e-05])"
      ]
     },
     "execution_count": 12,
     "metadata": {},
     "output_type": "execute_result"
    }
   ],
   "source": [
    "# Calculate the normal Density function \n",
    "mew = 14\n",
    "sd = 2.8\n",
    "pi = np.pi\n",
    "density = (np.exp(-((bins - mew)**2)/(2 * sd**2)))/(sd * np.sqrt(2 * pi))\n",
    "density"
   ]
  },
  {
   "cell_type": "code",
   "execution_count": 16,
   "metadata": {
    "ExecuteTime": {
     "end_time": "2020-08-10T11:56:46.419306Z",
     "start_time": "2020-08-10T11:56:46.413548Z"
    }
   },
   "outputs": [],
   "source": [
    "nd_fx = np.zeros(value.size)\n",
    "nd_fy = np.zeros(value.size)\n",
    "for loop in range(value.size):\n",
    "    nd_fx[loop] = (bins[loop]+bins[loop+1])/2\n",
    "    nd_fy[loop] = value[loop]"
   ]
  },
  {
   "cell_type": "markdown",
   "metadata": {},
   "source": [
    "## Plot the histogram and density function"
   ]
  },
  {
   "cell_type": "code",
   "execution_count": 17,
   "metadata": {
    "ExecuteTime": {
     "end_time": "2020-08-10T11:56:48.926717Z",
     "start_time": "2020-08-10T11:56:48.721123Z"
    }
   },
   "outputs": [
    {
     "data": {
      "text/plain": [
       "[<matplotlib.lines.Line2D at 0x1143e06d8>]"
      ]
     },
     "execution_count": 17,
     "metadata": {},
     "output_type": "execute_result"
    },
    {
     "data": {
      "image/png": "[encoded data removed]",
      "text/plain": [
       "<Figure size 432x288 with 1 Axes>"
      ]
     },
     "metadata": {
      "needs_background": "light"
     },
     "output_type": "display_data"
    }
   ],
   "source": [
    "# Plot histogram along with the density function\n",
    "plt.hist(nor_dist, bins=20, density=True,  histtype='stepfilled')\n",
    "plt.plot(bins, density)\n",
    "plt.plot(nd_fx, nd_fy)\n"
   ]
  },
  {
   "cell_type": "markdown",
   "metadata": {},
   "source": [
    "## Visualize the distribution using seaborn and plot the KDE"
   ]
  },
  {
   "cell_type": "code",
   "execution_count": 18,
   "metadata": {
    "ExecuteTime": {
     "end_time": "2020-08-10T11:57:30.775308Z",
     "start_time": "2020-08-10T11:57:29.329435Z"
    }
   },
   "outputs": [],
   "source": [
    "# Use seaborn to plot the histogram with KDE\n",
    "import seaborn as sns"
   ]
  },
  {
   "cell_type": "code",
   "execution_count": 19,
   "metadata": {
    "ExecuteTime": {
     "end_time": "2020-08-10T11:59:02.998631Z",
     "start_time": "2020-08-10T11:59:02.761410Z"
    }
   },
   "outputs": [
    {
     "data": {
      "text/plain": [
       "<matplotlib.axes._subplots.AxesSubplot at 0x1a18169b00>"
      ]
     },
     "execution_count": 19,
     "metadata": {},
     "output_type": "execute_result"
    },
    {
     "data": {
      "image/png": "[encoded data removed]",
      "text/plain": [
       "<Figure size 432x288 with 1 Axes>"
      ]
     },
     "metadata": {
      "needs_background": "light"
     },
     "output_type": "display_data"
    }
   ],
   "source": [
    "sns.distplot(nor_dist, bins = 20, norm_hist=True)"
   ]
  },
  {
   "cell_type": "markdown",
   "metadata": {},
   "source": [
    "## Summary\n",
    "\n",
    "In this lab, you learned how to generate random normal distributions in Python using Numpy. You also calculated the density for normal distributions using the general formula as well as seaborn's KDE. Next, you'll move on to learn about the standard normal distribution and how normal distributions are used to answer analytical questions."
   ]
  }
 ],
 "metadata": {
  "kernelspec": {
   "display_name": "Python 3",
   "language": "python",
   "name": "python3"
  },
  "language_info": {
   "codemirror_mode": {
    "name": "ipython",
    "version": 3
   },
   "file_extension": ".py",
   "mimetype": "text/x-python",
   "name": "python",
   "nbconvert_exporter": "python",
   "pygments_lexer": "ipython3",
   "version": "3.6.9"
  },
  "toc": {
   "base_numbering": 1,
   "nav_menu": {},
   "number_sections": true,
   "sideBar": true,
   "skip_h1_title": false,
   "title_cell": "Table of Contents",
   "title_sidebar": "Contents",
   "toc_cell": false,
   "toc_position": {},
   "toc_section_display": true,
   "toc_window_display": false
  },
  "varInspector": {
   "cols": {
    "lenName": 16,
    "lenType": 16,
    "lenVar": 40
   },
   "kernels_config": {
    "python": {
     "delete_cmd_postfix": "",
     "delete_cmd_prefix": "del ",
     "library": "var_list.py",
     "varRefreshCmd": "print(var_dic_list())"
    },
    "r": {
     "delete_cmd_postfix": ") ",
     "delete_cmd_prefix": "rm(",
     "library": "var_list.r",
     "varRefreshCmd": "cat(var_dic_list()) "
    }
   },
   "types_to_exclude": [
    "module",
    "function",
    "builtin_function_or_method",
    "instance",
    "_Feature"
   ],
   "window_display": false
  }
 },
 "nbformat": 4,
 "nbformat_minor": 2
}
